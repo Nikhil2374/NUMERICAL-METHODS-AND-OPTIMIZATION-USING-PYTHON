{
  "nbformat": 4,
  "nbformat_minor": 0,
  "metadata": {
    "colab": {
      "provenance": [],
      "authorship_tag": "ABX9TyNNQttJtlgRN1kGnfol3GyW",
      "include_colab_link": true
    },
    "kernelspec": {
      "name": "python3",
      "display_name": "Python 3"
    },
    "language_info": {
      "name": "python"
    }
  },
  "cells": [
    {
      "cell_type": "markdown",
      "metadata": {
        "id": "view-in-github",
        "colab_type": "text"
      },
      "source": [
        "<a href=\"https://colab.research.google.com/github/Nikhil2374/NUMERICAL-METHODS-AND-OPTIMIZATION-USING-PYTHON/blob/main/Optimization%20with%20Equality%20and%20Inequality%20Constraints%20Using%20Python..ipynb\" target=\"_parent\"><img src=\"https://colab.research.google.com/assets/colab-badge.svg\" alt=\"Open In Colab\"/></a>"
      ]
    },
    {
      "cell_type": "code",
      "execution_count": 1,
      "metadata": {
        "colab": {
          "base_uri": "https://localhost:8080/"
        },
        "id": "QzGr0xvYezRh",
        "outputId": "25b7121f-b1bf-436b-967d-0360eb8b5ae2"
      },
      "outputs": [
        {
          "output_type": "stream",
          "name": "stdout",
          "text": [
            "Optimal solution: [0.5 0.5]\n",
            "Optimal value: 0.5\n"
          ]
        }
      ],
      "source": [
        "from scipy.optimize import minimize\n",
        "\n",
        "# Objective function to minimize\n",
        "def objective_function(x):\n",
        "    return x[0]**2 + x[1]**2\n",
        "\n",
        "# Equality constraint function\n",
        "def equality_constraint(x):\n",
        "    return x[0] + x[1] - 1\n",
        "\n",
        "# Inequality constraint function\n",
        "def inequality_constraint(x):\n",
        "    return x[0] - x[1]\n",
        "\n",
        "# Initial guess\n",
        "initial_guess = [0.5, 0.5]\n",
        "\n",
        "# Define constraints\n",
        "constraints = [\n",
        "    {'type': 'eq', 'fun': equality_constraint},\n",
        "    {'type': 'ineq', 'fun': inequality_constraint}\n",
        "]\n",
        "\n",
        "# Optimize with equality and inequality constraints\n",
        "result = minimize(objective_function, initial_guess, constraints=constraints)\n",
        "\n",
        "# Display the results\n",
        "print(\"Optimal solution:\", result.x)\n",
        "print(\"Optimal value:\", result.fun)\n"
      ]
    },
    {
      "cell_type": "code",
      "source": [],
      "metadata": {
        "id": "D7hhmP6hgNzI"
      },
      "execution_count": null,
      "outputs": []
    }
  ]
}