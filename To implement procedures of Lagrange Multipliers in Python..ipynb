{
  "nbformat": 4,
  "nbformat_minor": 0,
  "metadata": {
    "colab": {
      "provenance": [],
      "authorship_tag": "ABX9TyOzBvL24OoSDh6fgPGw58Lo",
      "include_colab_link": true
    },
    "kernelspec": {
      "name": "python3",
      "display_name": "Python 3"
    },
    "language_info": {
      "name": "python"
    }
  },
  "cells": [
    {
      "cell_type": "markdown",
      "metadata": {
        "id": "view-in-github",
        "colab_type": "text"
      },
      "source": [
        "<a href=\"https://colab.research.google.com/github/Nikhil2374/NUMERICAL-METHODS-AND-OPTIMIZATION-USING-PYTHON/blob/main/To%20implement%20procedures%20of%20Lagrange%20Multipliers%20in%20Python..ipynb\" target=\"_parent\"><img src=\"https://colab.research.google.com/assets/colab-badge.svg\" alt=\"Open In Colab\"/></a>"
      ]
    },
    {
      "cell_type": "code",
      "execution_count": 1,
      "metadata": {
        "colab": {
          "base_uri": "https://localhost:8080/"
        },
        "id": "XLGmzIrsc0LY",
        "outputId": "13d8c584-e8ff-4e7e-a079-7d88d19c7c0a"
      },
      "outputs": [
        {
          "output_type": "stream",
          "name": "stdout",
          "text": [
            "Optimal solution: [0.5 0.5]\n",
            "Optimal value: 0.5\n",
            "Lagrange multiplier: 0.0\n"
          ]
        }
      ],
      "source": [
        "from scipy.optimize import minimize\n",
        "\n",
        "# Objective function to minimize\n",
        "def objective_function(x):\n",
        "    return x[0]**2 + x[1]**2\n",
        "\n",
        "# Equality constraint function\n",
        "def constraint_equation(x):\n",
        "    return x[0] + x[1] - 1\n",
        "\n",
        "# Lagrangian function\n",
        "def lagrangian(x, lambda_):\n",
        "    return objective_function(x) + lambda_ * constraint_equation(x)\n",
        "\n",
        "# Wrapper function for scipy.optimize.minimize\n",
        "def optimize_with_lagrange(initial_guess):\n",
        "    result = minimize(lambda x: lagrangian(x, 1.0), initial_guess,\n",
        "                      constraints={'type': 'eq', 'fun': constraint_equation})\n",
        "    return result\n",
        "\n",
        "# Initial guess\n",
        "initial_guess = [0.5, 0.5]\n",
        "\n",
        "# Optimize using Lagrange multipliers\n",
        "result = optimize_with_lagrange(initial_guess)\n",
        "\n",
        "# Display the results\n",
        "print(\"Optimal solution:\", result.x)\n",
        "print(\"Optimal value:\", result.fun)\n",
        "print(\"Lagrange multiplier:\", result.fun - objective_function(result.x))\n"
      ]
    },
    {
      "cell_type": "code",
      "source": [],
      "metadata": {
        "id": "USISdt08eUGB"
      },
      "execution_count": null,
      "outputs": []
    }
  ]
}