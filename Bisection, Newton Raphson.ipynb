{
  "nbformat": 4,
  "nbformat_minor": 0,
  "metadata": {
    "colab": {
      "provenance": [],
      "authorship_tag": "ABX9TyMVR5rJboKjF2KGzu4lwYyC",
      "include_colab_link": true
    },
    "kernelspec": {
      "name": "python3",
      "display_name": "Python 3"
    },
    "language_info": {
      "name": "python"
    }
  },
  "cells": [
    {
      "cell_type": "markdown",
      "metadata": {
        "id": "view-in-github",
        "colab_type": "text"
      },
      "source": [
        "<a href=\"https://colab.research.google.com/github/Nikhil2374/NUMERICAL-METHODS-AND-OPTIMIZATION-USING-PYTHON/blob/main/Bisection%2C%20Newton%20Raphson.ipynb\" target=\"_parent\"><img src=\"https://colab.research.google.com/assets/colab-badge.svg\" alt=\"Open In Colab\"/></a>"
      ]
    },
    {
      "cell_type": "code",
      "execution_count": 2,
      "metadata": {
        "colab": {
          "base_uri": "https://localhost:8080/"
        },
        "id": "NoG-nZVBFacw",
        "outputId": "3fd08707-3d83-4390-c06f-9a505427aff1"
      },
      "outputs": [
        {
          "output_type": "stream",
          "name": "stdout",
          "text": [
            "Bisection Method Root: 2.000000238418579\n"
          ]
        }
      ],
      "source": [
        "def bisection_method(func, a, b, tol=1e-6, max_iter=100):\n",
        "    # Check if the function has opposite signs at the endpoints a and b\n",
        "    if func(a) * func(b) > 0:\n",
        "        raise ValueError(\"The function values at the interval endpoints must have opposite signs.\")\n",
        "\n",
        "    iteration = 0\n",
        "\n",
        "    # Main loop of the Bisection Method\n",
        "    while (b - a) / 2 > tol and iteration < max_iter:\n",
        "        c = (a + b) / 2  # Midpoint\n",
        "        if func(c) == 0:  # If the midpoint is the root\n",
        "            return c\n",
        "        elif func(c) * func(a) < 0:  # Root is in the left half\n",
        "            b = c\n",
        "        else:  # Root is in the right half\n",
        "            a = c\n",
        "        iteration += 1\n",
        "\n",
        "    # Return the midpoint as the root approximation\n",
        "    return (a + b) / 2\n",
        "\n",
        "# Example usage:\n",
        "def quadratic_function(x):\n",
        "    return x**2 - 4\n",
        "\n",
        "root = bisection_method(quadratic_function, 0, 3)\n",
        "print(\"Bisection Method Root:\", root)\n"
      ]
    },
    {
      "cell_type": "code",
      "source": [
        "def newton_raphson_method(func, func_derivative, initial_guess, tol=1e-6, max_iter=100):\n",
        "    x = initial_guess  # Start with the initial guess\n",
        "    iteration = 0  # Initialize iteration count\n",
        "\n",
        "    # Perform Newton-Raphson iteration\n",
        "    while abs(func(x)) > tol and iteration < max_iter:\n",
        "        x = x - func(x) / func_derivative(x)  # Update x using Newton-Raphson formula\n",
        "        iteration += 1  # Increment iteration count\n",
        "\n",
        "    return x  # Return the root approximation\n",
        "\n",
        "# Example usage:\n",
        "\n",
        "def cubic_function(x):\n",
        "    return x**3 - 6*x**2 + 11*x - 6  # Define the cubic function\n",
        "\n",
        "def cubic_derivative(x):\n",
        "    return 3*x**2 - 12*x + 11  # Define the derivative of the cubic function\n",
        "\n",
        "# Initial guess for root\n",
        "initial_guess = 1.5\n",
        "\n",
        "# Finding root using Newton-Raphson method\n",
        "root_newton = newton_raphson_method(cubic_function, cubic_derivative, initial_guess)\n",
        "print(\"Newton-Raphson Method Root:\", root_newton)\n"
      ],
      "metadata": {
        "colab": {
          "base_uri": "https://localhost:8080/"
        },
        "id": "TyvQqJi2GXEh",
        "outputId": "e7f36d53-f299-4811-d653-36656508df94"
      },
      "execution_count": 3,
      "outputs": [
        {
          "output_type": "stream",
          "name": "stdout",
          "text": [
            "Newton-Raphson Method Root: 3.0\n"
          ]
        }
      ]
    }
  ]
}