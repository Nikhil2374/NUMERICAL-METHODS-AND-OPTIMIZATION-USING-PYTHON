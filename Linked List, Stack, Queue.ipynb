{
  "nbformat": 4,
  "nbformat_minor": 0,
  "metadata": {
    "colab": {
      "provenance": [],
      "authorship_tag": "ABX9TyPzdgbXmiSeRt48XCrqaRe6",
      "include_colab_link": true
    },
    "kernelspec": {
      "name": "python3",
      "display_name": "Python 3"
    },
    "language_info": {
      "name": "python"
    }
  },
  "cells": [
    {
      "cell_type": "markdown",
      "metadata": {
        "id": "view-in-github",
        "colab_type": "text"
      },
      "source": [
        "<a href=\"https://colab.research.google.com/github/Nikhil2374/NUMERICAL-METHODS-AND-OPTIMIZATION-USING-PYTHON/blob/main/Linked%20List%2C%20Stack%2C%20Queue.ipynb\" target=\"_parent\"><img src=\"https://colab.research.google.com/assets/colab-badge.svg\" alt=\"Open In Colab\"/></a>"
      ]
    },
    {
      "cell_type": "code",
      "execution_count": 1,
      "metadata": {
        "colab": {
          "base_uri": "https://localhost:8080/"
        },
        "id": "h0E25P3XD5uY",
        "outputId": "511bc487-2c7a-4eaf-f651-14a541912bab"
      },
      "outputs": [
        {
          "output_type": "stream",
          "name": "stdout",
          "text": [
            "Linked List: [1, 2, 3]\n"
          ]
        }
      ],
      "source": [
        "#linked List\n",
        "class Node:\n",
        "    def __init__(self, data):\n",
        "        self.data = data\n",
        "        self.next = None\n",
        "\n",
        "class LinkedList:\n",
        "    def __init__(self):\n",
        "        self.head = None\n",
        "\n",
        "    def is_empty(self):\n",
        "        return self.head is None\n",
        "\n",
        "    def append(self, data):\n",
        "        new_node = Node(data)\n",
        "        if self.is_empty():\n",
        "            self.head = new_node\n",
        "        else:\n",
        "            current = self.head\n",
        "            while current.next:\n",
        "                current = current.next\n",
        "            current.next = new_node\n",
        "\n",
        "    def display(self):\n",
        "        elements = []\n",
        "        current = self.head\n",
        "        while current:\n",
        "            elements.append(current.data)\n",
        "            current = current.next\n",
        "        print(\"Linked List:\", elements)\n",
        "\n",
        "# Example usage:\n",
        "linked_list = LinkedList()\n",
        "linked_list.append(1)\n",
        "linked_list.append(2)\n",
        "linked_list.append(3)\n",
        "linked_list.display()\n"
      ]
    },
    {
      "cell_type": "code",
      "source": [
        "#Queue\n",
        "from collections import deque\n",
        "\n",
        "class Queue:\n",
        "    def __init__(self):\n",
        "        self.items = deque()\n",
        "\n",
        "    def is_empty(self):\n",
        "        return len(self.items) == 0\n",
        "\n",
        "    def enqueue(self, item):\n",
        "        self.items.append(item)\n",
        "\n",
        "    def dequeue(self):\n",
        "        if not self.is_empty():\n",
        "            return self.items.popleft()\n",
        "        else:\n",
        "            raise IndexError(\"dequeue from an empty queue\")\n",
        "\n",
        "    def size(self):\n",
        "        return len(self.items)\n",
        "\n",
        "# Example usage:\n",
        "queue = Queue()\n",
        "queue.enqueue(1)\n",
        "queue.enqueue(2)\n",
        "queue.enqueue(3)\n",
        "\n",
        "print(\"Queue:\", list(queue.items))\n",
        "print(\"Dequeue:\", queue.dequeue())\n",
        "print(\"Queue size:\", queue.size())\n"
      ],
      "metadata": {
        "colab": {
          "base_uri": "https://localhost:8080/"
        },
        "id": "OxIuiAQhEvjV",
        "outputId": "e1af263d-fb19-4ff2-8d84-9a93b30e8c39"
      },
      "execution_count": 2,
      "outputs": [
        {
          "output_type": "stream",
          "name": "stdout",
          "text": [
            "Queue: [1, 2, 3]\n",
            "Dequeue: 1\n",
            "Queue size: 2\n"
          ]
        }
      ]
    },
    {
      "cell_type": "code",
      "source": [
        "#Stack\n",
        "class Stack:\n",
        "    def __init__(self):\n",
        "        self.items = []\n",
        "\n",
        "    def is_empty(self):\n",
        "        return len(self.items) == 0\n",
        "\n",
        "    def push(self, item):\n",
        "        self.items.append(item)\n",
        "\n",
        "    def pop(self):\n",
        "        if not self.is_empty():\n",
        "            return self.items.pop()\n",
        "        else:\n",
        "            raise IndexError(\"pop from an empty stack\")\n",
        "\n",
        "    def peek(self):\n",
        "        if not self.is_empty():\n",
        "            return self.items[-1]\n",
        "        else:\n",
        "            raise IndexError(\"peek from an empty stack\")\n",
        "\n",
        "    def size(self):\n",
        "        return len(self.items)\n",
        "\n",
        "# Example usage:\n",
        "stack = Stack()\n",
        "stack.push(1)\n",
        "stack.push(2)\n",
        "stack.push(3)\n",
        "\n",
        "print(\"Stack:\", stack.items)\n",
        "print(\"Pop:\", stack.pop())\n",
        "print(\"Peek:\", stack.peek())\n",
        "print(\"Stack size:\", stack.size())\n"
      ],
      "metadata": {
        "colab": {
          "base_uri": "https://localhost:8080/"
        },
        "id": "N5_o82LfE2qk",
        "outputId": "5705d4aa-2563-4e57-9162-308d7c4f6803"
      },
      "execution_count": 3,
      "outputs": [
        {
          "output_type": "stream",
          "name": "stdout",
          "text": [
            "Stack: [1, 2, 3]\n",
            "Pop: 3\n",
            "Peek: 2\n",
            "Stack size: 2\n"
          ]
        }
      ]
    }
  ]
}