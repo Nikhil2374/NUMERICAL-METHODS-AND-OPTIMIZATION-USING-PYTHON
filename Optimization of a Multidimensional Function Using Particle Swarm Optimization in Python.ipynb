{
  "nbformat": 4,
  "nbformat_minor": 0,
  "metadata": {
    "colab": {
      "provenance": [],
      "authorship_tag": "ABX9TyN1IGjRVH6g8Y9KnBKPvWaY",
      "include_colab_link": true
    },
    "kernelspec": {
      "name": "python3",
      "display_name": "Python 3"
    },
    "language_info": {
      "name": "python"
    }
  },
  "cells": [
    {
      "cell_type": "markdown",
      "metadata": {
        "id": "view-in-github",
        "colab_type": "text"
      },
      "source": [
        "<a href=\"https://colab.research.google.com/github/Nikhil2374/NUMERICAL-METHODS-AND-OPTIMIZATION-USING-PYTHON/blob/main/Optimization%20of%20a%20Multidimensional%20Function%20Using%20Particle%20Swarm%20Optimization%20in%20Python.ipynb\" target=\"_parent\"><img src=\"https://colab.research.google.com/assets/colab-badge.svg\" alt=\"Open In Colab\"/></a>"
      ]
    },
    {
      "cell_type": "code",
      "execution_count": 2,
      "metadata": {
        "colab": {
          "base_uri": "https://localhost:8080/"
        },
        "id": "wGIg50R0gbpI",
        "outputId": "ed22ea81-1503-4d66-fb74-988496690ef2"
      },
      "outputs": [
        {
          "output_type": "stream",
          "name": "stdout",
          "text": [
            "Collecting pyswarm\n",
            "  Downloading pyswarm-0.6.tar.gz (4.3 kB)\n",
            "  Preparing metadata (setup.py) ... \u001b[?25l\u001b[?25hdone\n",
            "Requirement already satisfied: numpy in /usr/local/lib/python3.10/dist-packages (from pyswarm) (1.26.4)\n",
            "Building wheels for collected packages: pyswarm\n",
            "  Building wheel for pyswarm (setup.py) ... \u001b[?25l\u001b[?25hdone\n",
            "  Created wheel for pyswarm: filename=pyswarm-0.6-py3-none-any.whl size=4464 sha256=2d76e4779b8de0682912641b872c70912ff2b8da457d370bea26f90ffe212e48\n",
            "  Stored in directory: /root/.cache/pip/wheels/71/67/40/62fa158f497f942277cbab8199b05cb61c571ab324e67ad0d6\n",
            "Successfully built pyswarm\n",
            "Installing collected packages: pyswarm\n",
            "Successfully installed pyswarm-0.6\n",
            "Stopping search: Swarm best objective change less than 1e-08\n",
            "Optimal solution: [-1.33375393e-05  1.65825643e-04 -3.24617826e-05]\n",
            "Optimal value: 2.8729801123769582e-08\n"
          ]
        }
      ],
      "source": [
        "!pip install pyswarm # Install the pyswarm package\n",
        "\n",
        "import numpy as np\n",
        "from pyswarm import pso\n",
        "\n",
        "# Define the multidimensional objective function to minimize\n",
        "def objective_function(x):\n",
        "    return np.sum(x**2)\n",
        "\n",
        "# Set the search space bounds (example: 3-dimensional space)\n",
        "lower_bound = [-5, -5, -5]\n",
        "upper_bound = [5, 5, 5]\n",
        "\n",
        "# Perform PSO optimization\n",
        "best_solution, best_value = pso(objective_function, lower_bound, upper_bound)\n",
        "\n",
        "# Display the results\n",
        "print(\"Optimal solution:\", best_solution)\n",
        "print(\"Optimal value:\", best_value)"
      ]
    }
  ]
}