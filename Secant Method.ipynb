{
  "nbformat": 4,
  "nbformat_minor": 0,
  "metadata": {
    "colab": {
      "provenance": [],
      "authorship_tag": "ABX9TyOt6Hqe0lTxNkuqrCEoMVD7",
      "include_colab_link": true
    },
    "kernelspec": {
      "name": "python3",
      "display_name": "Python 3"
    },
    "language_info": {
      "name": "python"
    }
  },
  "cells": [
    {
      "cell_type": "markdown",
      "metadata": {
        "id": "view-in-github",
        "colab_type": "text"
      },
      "source": [
        "<a href=\"https://colab.research.google.com/github/Nikhil2374/NUMERICAL-METHODS-AND-OPTIMIZATION-USING-PYTHON/blob/main/Secant%20Method.ipynb\" target=\"_parent\"><img src=\"https://colab.research.google.com/assets/colab-badge.svg\" alt=\"Open In Colab\"/></a>"
      ]
    },
    {
      "cell_type": "code",
      "execution_count": null,
      "metadata": {
        "colab": {
          "base_uri": "https://localhost:8080/"
        },
        "id": "mlDpXM7l9ioa",
        "outputId": "5172e785-b498-45cb-9041-97e26d80d0d6"
      },
      "outputs": [
        {
          "output_type": "stream",
          "name": "stdout",
          "text": [
            "Root found: 2.0000000000004996\n",
            "Iterations: 6\n"
          ]
        }
      ],
      "source": [
        "def secant_method(func, x0, x1, tol=1e-6, max_iter=100):\n",
        "\n",
        "    x_k_minus_1 = x0\n",
        "    x_k = x1\n",
        "\n",
        "    for k in range(max_iter):\n",
        "        f_k_minus_1 = func(x_k_minus_1)\n",
        "        f_k = func(x_k)\n",
        "\n",
        "        if f_k == f_k_minus_1:\n",
        "            raise ValueError(\"Division by zero detected in the Secant method.\")\n",
        "\n",
        "        # Update x_k_plus_1 using the Secant method formula\n",
        "        x_k_plus_1 = x_k - f_k * (x_k - x_k_minus_1) / (f_k - f_k_minus_1)\n",
        "\n",
        "        # Check for convergence\n",
        "        if abs(x_k_plus_1 - x_k) < tol:\n",
        "            return x_k_plus_1, k + 1  # Return the root and the number of iterations\n",
        "\n",
        "        # Prepare for the next iteration\n",
        "        x_k_minus_1 = x_k\n",
        "        x_k = x_k_plus_1\n",
        "\n",
        "    raise ValueError(\"Secant method did not converge within the maximum number of iterations.\")\n",
        "\n",
        "\n",
        "# Example usage:\n",
        "if __name__ == \"__main__\":\n",
        "    # Define the function for finding the square root of a number\n",
        "    def target_function(x):\n",
        "        return x**2 - 4\n",
        "\n",
        "    # Initial guesses\n",
        "    x0 = 1.0\n",
        "    x1 = 3.0\n",
        "\n",
        "    # Call the Secant method function\n",
        "    root, iterations = secant_method(target_function, x0, x1)\n",
        "\n",
        "    print(f\"Root found: {root}\")\n",
        "    print(f\"Iterations: {iterations}\")\n"
      ]
    }
  ]
}